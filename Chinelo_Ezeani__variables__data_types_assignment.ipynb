{
  "nbformat": 4,
  "nbformat_minor": 0,
  "metadata": {
    "kernelspec": {
      "display_name": "Python 3",
      "language": "python",
      "name": "python3"
    },
    "language_info": {
      "codemirror_mode": {
        "name": "ipython",
        "version": 3
      },
      "file_extension": ".py",
      "mimetype": "text/x-python",
      "name": "python",
      "nbconvert_exporter": "python",
      "pygments_lexer": "ipython3",
      "version": "3.8.5"
    },
    "colab": {
      "name": "Chinelo Ezeani _variables__data_types_assignment.ipynb",
      "provenance": [],
      "include_colab_link": true
    }
  },
  "cells": [
    {
      "cell_type": "markdown",
      "metadata": {
        "id": "view-in-github",
        "colab_type": "text"
      },
      "source": [
        "<a href=\"https://colab.research.google.com/github/NayloEze/Introduction-to-Python/blob/main/Chinelo_Ezeani__variables__data_types_assignment.ipynb\" target=\"_parent\"><img src=\"https://colab.research.google.com/assets/colab-badge.svg\" alt=\"Open In Colab\"/></a>"
      ]
    },
    {
      "cell_type": "markdown",
      "metadata": {
        "id": "BMdP29X0VxgQ"
      },
      "source": [
        "\n",
        "\n",
        "1. What is a variable?\n",
        "\n",
        "2. Give 5 examples of variables with corresponding values.\n",
        "\n",
        "country = Nigeria \n",
        "name = Chinelo\n",
        "complexion = Fair\n",
        "weight_lb = 150 \n",
        "eye_color = Brown \n",
        "\n",
        "3. State the data type for each of the following variables:\n",
        "- b = False\n",
        "Boolean\n",
        "- number = \"1000\"\n",
        "String\n",
        "- radius = 7.0\n",
        "Float\n",
        "- diameter = 14\n",
        "Integer\n",
        "- country = 'Nigeria'\n",
        "String\n",
        "\n",
        "4. Fix this string\n",
        "quote = \"You're right, he won\\'t agree to this deal.\"\n",
        "\n",
        "5. What happens when you call a string method like islower() on a float object? For example, 15.55.islower()\n",
        "Answer - This will give an error since .lower is supposed to chnage the letters to lower case.\n",
        "\n",
        "6. Write two lines of code each assigning a value to a variable. Now write a print statement using .format() to print out a sentence containing the values of both of the variables.\n",
        "\n",
        "\n",
        "7. You’ve been provided below with example data for a user, the time of their visit and the site they accessed. You should use the variables provided and the techniques you’ve learned to print a log message like this one  \"Amina accessed the site http://kadatemy.com/courses/pythonfordatascience/class1 at 09:20.\" (with the username, url, and timestamp replaced with values from the appropriate variables). \n"
      ]
    },
    {
      "cell_type": "code",
      "metadata": {
        "id": "FkZJQIRaVxgV"
      },
      "source": [
        "username = \"Faith\"\n",
        "timestamp = \"07:50\"\n",
        "url = \"http://kadatemy.com/courses/pythonfordatascience/class1\"\n",
        "\n"
      ],
      "execution_count": null,
      "outputs": []
    },
    {
      "cell_type": "markdown",
      "metadata": {
        "id": "PclgWIZuVxgX"
      },
      "source": [
        "8. Consider this string\n",
        "str1 = \"Python exercises are fun. It is very satisfying to solve problems using this computer language.\"\n",
        "- a- Print the length of the string\n",
        "- b- Show the first and last characters of the string.\n",
        "- c- print the characters \"exercises\" from the string using the right index, do the same for \"language\".\n",
        "- d- By using first, second and last characters of the string, create a new string\n",
        "- e- Which character occurs more often in the string? \"e\" or \"s\" ? Print both counts inside the print function.\n",
        "\n",
        "9. Consider this string \n",
        "str2 = \"  I'm enjoying this a lot! I could do with more exercises.   \"\n",
        "- a- Return the string without any whitespace at the beginning or the end.\n",
        "- b- what is the result of using the method isnumeric() on this string\n",
        "- c- usind a method, return the last position of where \"i\" is found\n",
        "\n",
        "10. Return the output of concatenating the strings provided in in question 8 and 9.\n",
        "\n",
        "11. Use an appropriate method that returns True if all characters in this string are digits.\n",
        "x = \"3490003\""
      ]
    },
    {
      "cell_type": "code",
      "metadata": {
        "colab": {
          "base_uri": "https://localhost:8080/"
        },
        "id": "L_HkLFNuVxgY",
        "outputId": "b158a3b0-f8b7-4e0c-effd-12817d40a967"
      },
      "source": [
        "quote = \"You\\'re right, he won\\'t agree to this deal.\"\n",
        "print(quote)"
      ],
      "execution_count": 3,
      "outputs": [
        {
          "output_type": "stream",
          "name": "stdout",
          "text": [
            "You're right, he won't agree to this deal.\n"
          ]
        }
      ]
    },
    {
      "cell_type": "code",
      "metadata": {
        "id": "lRi6OljmVxgY"
      },
      "source": [
        ""
      ],
      "execution_count": null,
      "outputs": []
    }
  ]
}