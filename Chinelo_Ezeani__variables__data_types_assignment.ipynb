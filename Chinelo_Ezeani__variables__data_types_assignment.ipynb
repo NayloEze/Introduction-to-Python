{
  "nbformat": 4,
  "nbformat_minor": 0,
  "metadata": {
    "kernelspec": {
      "display_name": "Python 3",
      "language": "python",
      "name": "python3"
    },
    "language_info": {
      "codemirror_mode": {
        "name": "ipython",
        "version": 3
      },
      "file_extension": ".py",
      "mimetype": "text/x-python",
      "name": "python",
      "nbconvert_exporter": "python",
      "pygments_lexer": "ipython3",
      "version": "3.8.5"
    },
    "colab": {
      "name": "Chinelo Ezeani _variables__data_types_assignment.ipynb",
      "provenance": [],
      "include_colab_link": true
    }
  },
  "cells": [
    {
      "cell_type": "markdown",
      "metadata": {
        "id": "view-in-github",
        "colab_type": "text"
      },
      "source": [
        "<a href=\"https://colab.research.google.com/github/NayloEze/Introduction-to-Python/blob/main/Chinelo_Ezeani__variables__data_types_assignment.ipynb\" target=\"_parent\"><img src=\"https://colab.research.google.com/assets/colab-badge.svg\" alt=\"Open In Colab\"/></a>"
      ]
    },
    {
      "cell_type": "markdown",
      "metadata": {
        "id": "BMdP29X0VxgQ"
      },
      "source": [
        "\n",
        "\n",
        "1. What is a variable?\n",
        "\n",
        "2. Give 5 examples of variables with corresponding values.\n",
        "\n",
        "country = Nigeria \n",
        "name = Chinelo\n",
        "complexion = Fair\n",
        "weight_lb = 150 \n",
        "eye_color = Brown \n",
        "\n",
        "3. State the data type for each of the following variables:\n",
        "- b = False\n",
        "Boolean\n",
        "- number = \"1000\"\n",
        "String\n",
        "- radius = 7.0\n",
        "Float\n",
        "- diameter = 14\n",
        "Integer\n",
        "- country = 'Nigeria'\n",
        "String\n",
        "\n",
        "4. Fix this string\n",
        "quote = \"You're right, he won\\'t agree to this deal.\"\n",
        "\n",
        "5. What happens when you call a string method like islower() on a float object? For example, 15.55.islower()\n",
        "\n",
        "\n",
        "6. Write two lines of code each assigning a value to a variable. Now write a print statement using .format() to print out a sentence containing the values of both of the variables.\n",
        "\n",
        "\n",
        "7. You’ve been provided below with example data for a user, the time of their visit and the site they accessed. You should use the variables provided and the techniques you’ve learned to print a log message like this one  \"Amina accessed the site http://kadatemy.com/courses/pythonfordatascience/class1 at 09:20.\" (with the username, url, and timestamp replaced with values from the appropriate variables). \n"
      ]
    },
    {
      "cell_type": "markdown",
      "metadata": {
        "id": "64_C_LoMhATI"
      },
      "source": [
        "Number 1"
      ]
    },
    {
      "cell_type": "markdown",
      "metadata": {
        "id": "CUW8BnpehB5D"
      },
      "source": [
        "A variable is storage that houses values. It can also be described as a name given to a value. "
      ]
    },
    {
      "cell_type": "markdown",
      "metadata": {
        "id": "_icVH1_KgvgG"
      },
      "source": [
        "Number 2"
      ]
    },
    {
      "cell_type": "markdown",
      "metadata": {
        "id": "WnQaVub9gxBv"
      },
      "source": [
        "Give 5 examples of variables with corresponding values.\n",
        "\n",
        "country = Nigeria,\n",
        " name = Chinelo,\n",
        " complexion = Fair, \n",
        " weight_lb = 150, \n",
        " eye_color = Brown"
      ]
    },
    {
      "cell_type": "markdown",
      "metadata": {
        "id": "-tPNuJXbgYte"
      },
      "source": [
        "Number 3"
      ]
    },
    {
      "cell_type": "markdown",
      "metadata": {
        "id": "9MDoCMOigV83"
      },
      "source": [
        "State the data type for each of the following variables:\n",
        "b = False  - Boolean\n",
        "number = \"1000\"   - String\n",
        "radius = 7.0  - Float\n",
        "diameter = 14 -  Integer\n",
        "country = 'Nigeria' -  String"
      ]
    },
    {
      "cell_type": "markdown",
      "metadata": {
        "id": "yoBuINOJfR-L"
      },
      "source": [
        "Number 4"
      ]
    },
    {
      "cell_type": "code",
      "metadata": {
        "colab": {
          "base_uri": "https://localhost:8080/"
        },
        "id": "tdbYxz2dfViY",
        "outputId": "0c0e3576-110f-46e3-d1cf-82ec693a3227"
      },
      "source": [
        "quote = \"You're right, he won't agree to this deal.\"\n",
        "print(quote)"
      ],
      "execution_count": 2,
      "outputs": [
        {
          "output_type": "stream",
          "name": "stdout",
          "text": [
            "You're right, he won't agree to this deal.\n"
          ]
        }
      ]
    },
    {
      "cell_type": "code",
      "metadata": {
        "colab": {
          "base_uri": "https://localhost:8080/"
        },
        "id": "Ee4uDGtsiNf_",
        "outputId": "6049b679-9d9d-4456-8fbc-8b5e02bf22e1"
      },
      "source": [
        "quote = \"You\\'re right, he won\\'t agree to this deal.\"\n",
        "print(quote)"
      ],
      "execution_count": 27,
      "outputs": [
        {
          "output_type": "stream",
          "name": "stdout",
          "text": [
            "You're right, he won't agree to this deal.\n"
          ]
        }
      ]
    },
    {
      "cell_type": "markdown",
      "metadata": {
        "id": "oYIufb_PeQQ4"
      },
      "source": [
        "Number 5"
      ]
    },
    {
      "cell_type": "code",
      "metadata": {
        "colab": {
          "base_uri": "https://localhost:8080/",
          "height": 185
        },
        "id": "e1cB6YIjeSjB",
        "outputId": "39f682b4-553f-448e-ee45-c77e3f31934a"
      },
      "source": [
        "p = 15.55 #method is used on string characters so it does not apply to float objects. If 15.55 was a string, output will be FALSE\n",
        "p.islower()"
      ],
      "execution_count": 24,
      "outputs": [
        {
          "output_type": "error",
          "ename": "AttributeError",
          "evalue": "ignored",
          "traceback": [
            "\u001b[0;31m---------------------------------------------------------------------------\u001b[0m",
            "\u001b[0;31mAttributeError\u001b[0m                            Traceback (most recent call last)",
            "\u001b[0;32m<ipython-input-24-5a319a5c8aa8>\u001b[0m in \u001b[0;36m<module>\u001b[0;34m()\u001b[0m\n\u001b[1;32m      1\u001b[0m \u001b[0mp\u001b[0m \u001b[0;34m=\u001b[0m \u001b[0;36m15.55\u001b[0m\u001b[0;34m\u001b[0m\u001b[0;34m\u001b[0m\u001b[0m\n\u001b[0;32m----> 2\u001b[0;31m \u001b[0mp\u001b[0m\u001b[0;34m.\u001b[0m\u001b[0mislower\u001b[0m\u001b[0;34m(\u001b[0m\u001b[0;34m)\u001b[0m\u001b[0;34m\u001b[0m\u001b[0;34m\u001b[0m\u001b[0m\n\u001b[0m",
            "\u001b[0;31mAttributeError\u001b[0m: 'float' object has no attribute 'islower'"
          ]
        }
      ]
    },
    {
      "cell_type": "markdown",
      "metadata": {
        "id": "PxsHWQY6eJ8c"
      },
      "source": [
        "Number 6"
      ]
    },
    {
      "cell_type": "code",
      "metadata": {
        "colab": {
          "base_uri": "https://localhost:8080/"
        },
        "id": "H9P8-l_aeMbS",
        "outputId": "a2ba9d37-10df-4ce9-c3fe-060edecffa23"
      },
      "source": [
        "personal_details = \"My name is {fname}\"\n",
        "hobbies = \"I love {kdrama}\"\n",
        "print(personal_details.format(fname = \"Chinelo\"))\n",
        "print(hobbies.format(kdrama = \"The Veil\"))"
      ],
      "execution_count": 32,
      "outputs": [
        {
          "output_type": "stream",
          "name": "stdout",
          "text": [
            "My name is Chinelo\n",
            "I love The Veil\n"
          ]
        }
      ]
    },
    {
      "cell_type": "markdown",
      "metadata": {
        "id": "Vb-fybnKd_ec"
      },
      "source": [
        "Number 7"
      ]
    },
    {
      "cell_type": "code",
      "metadata": {
        "colab": {
          "base_uri": "https://localhost:8080/"
        },
        "id": "FkZJQIRaVxgV",
        "outputId": "e7f9adf7-0547-4bb8-d6f7-a29b3e663703"
      },
      "source": [
        "username = \"Faith\"\n",
        "timestamp = \"07:50\"\n",
        "url = \"http://kadatemy.com/courses/pythonfordatascience/class1\"\n",
        "\n",
        "log_message = username +\" accessed the site \" + url + \" at \" + timestamp \n",
        "print(log_message)\n",
        "\n"
      ],
      "execution_count": 6,
      "outputs": [
        {
          "output_type": "stream",
          "name": "stdout",
          "text": [
            "Faith accessed the site http://kadatemy.com/courses/pythonfordatascience/class1 at 07:50\n"
          ]
        }
      ]
    },
    {
      "cell_type": "markdown",
      "metadata": {
        "id": "PclgWIZuVxgX"
      },
      "source": [
        "8. Consider this string\n",
        "str1 = \"Python exercises are fun. It is very satisfying to solve problems using this computer language.\"\n",
        "- a- Print the length of the string\n",
        "- b- Show the first and last characters of the string.\n",
        "- c- print the characters \"exercises\" from the string using the right index, do the same for \"language\".\n",
        "- d- By using first, second and last characters of the string, create a new string\n",
        "- e- Which character occurs more often in the string? \"e\" or \"s\" ? Print both counts inside the print function.\n",
        "\n",
        "9. Consider this string \n",
        "str2 = \"  I'm enjoying this a lot! I could do with more exercises.   \"\n",
        "- a- Return the string without any whitespace at the beginning or the end.\n",
        "- b- what is the result of using the method isnumeric() on this string\n",
        "- c- usind a method, return the last position of where \"i\" is found\n",
        "\n",
        "10. Return the output of concatenating the strings provided in in question 8 and 9.\n",
        "\n",
        "11. Use an appropriate method that returns True if all characters in this string are digits.\n",
        "x = \"3490003\""
      ]
    },
    {
      "cell_type": "markdown",
      "metadata": {
        "id": "yPEajjCadxl6"
      },
      "source": [
        "Number 8"
      ]
    },
    {
      "cell_type": "code",
      "metadata": {
        "colab": {
          "base_uri": "https://localhost:8080/"
        },
        "id": "lRi6OljmVxgY",
        "outputId": "b699e683-b71b-48bd-bbef-49b741dd41c8"
      },
      "source": [
        "str1 = \"Python exercises are fun. It is very satisfying to solve problems using this computer language.\"\n",
        "print(len(str1)) #a\n",
        "print(str1[0]) #b(1)\n",
        "print(str1[-1])#b(2)\n",
        "print(str1[7:16]) #c(1)\n",
        "print(str1[86:94]) #c(2)\n",
        "new_str = str1[0] + str1[1] + str1[-1]\n",
        "print(new_str)"
      ],
      "execution_count": 1,
      "outputs": [
        {
          "output_type": "stream",
          "name": "stdout",
          "text": [
            "95\n",
            "P\n",
            ".\n",
            "exercises\n",
            "language\n",
            "Py.\n"
          ]
        }
      ]
    },
    {
      "cell_type": "code",
      "metadata": {
        "colab": {
          "base_uri": "https://localhost:8080/"
        },
        "id": "mdHvYUvjcuav",
        "outputId": "f8073edb-5777-4e6b-c35b-2cb0d346f626"
      },
      "source": [
        "str1 = \"Python exercises are fun. It is very satisfying to solve problems using this computer language.\"\n",
        "str1.count(\"e\") #e(1)\n"
      ],
      "execution_count": 20,
      "outputs": [
        {
          "output_type": "execute_result",
          "data": {
            "text/plain": [
              "9"
            ]
          },
          "metadata": {},
          "execution_count": 20
        }
      ]
    },
    {
      "cell_type": "code",
      "metadata": {
        "colab": {
          "base_uri": "https://localhost:8080/"
        },
        "id": "6CJCpqw2dKKh",
        "outputId": "32d44f71-3118-45e0-e822-726d10363fd0"
      },
      "source": [
        "str1 = \"Python exercises are fun. It is very satisfying to solve problems using this computer language.\"\n",
        "str1.count(\"s\") #e(2)"
      ],
      "execution_count": 21,
      "outputs": [
        {
          "output_type": "execute_result",
          "data": {
            "text/plain": [
              "9"
            ]
          },
          "metadata": {},
          "execution_count": 21
        }
      ]
    },
    {
      "cell_type": "markdown",
      "metadata": {
        "id": "RLH4gQ_fd6Nl"
      },
      "source": [
        "Number 9"
      ]
    },
    {
      "cell_type": "code",
      "metadata": {
        "colab": {
          "base_uri": "https://localhost:8080/",
          "height": 37
        },
        "id": "40PLgMFyTvkv",
        "outputId": "39b405d7-805d-4744-f806-aaa6e27b13e6"
      },
      "source": [
        "str2 =  \"I'm enjoying this a lot! I could do with more exercises. \"\n",
        "str2.strip() #9a"
      ],
      "execution_count": 5,
      "outputs": [
        {
          "output_type": "execute_result",
          "data": {
            "application/vnd.google.colaboratory.intrinsic+json": {
              "type": "string"
            },
            "text/plain": [
              "\"I'm enjoying this a lot! I could do with more exercises.\""
            ]
          },
          "metadata": {},
          "execution_count": 5
        }
      ]
    },
    {
      "cell_type": "code",
      "metadata": {
        "colab": {
          "base_uri": "https://localhost:8080/"
        },
        "id": "MQKmCjT9XRCc",
        "outputId": "833498b1-2e23-4781-ee40-013c494da585"
      },
      "source": [
        "str2 =  \"I'm enjoying this a lot! I could do with more exercises. \"\n",
        "str2.isnumeric() #9b"
      ],
      "execution_count": 6,
      "outputs": [
        {
          "output_type": "execute_result",
          "data": {
            "text/plain": [
              "False"
            ]
          },
          "metadata": {},
          "execution_count": 6
        }
      ]
    },
    {
      "cell_type": "code",
      "metadata": {
        "colab": {
          "base_uri": "https://localhost:8080/"
        },
        "id": "6gGBrktEX_TF",
        "outputId": "6080ff48-8923-4d12-a3e7-5f62c9522df4"
      },
      "source": [
        "str2 =  \"I'm enjoying this a lot! I could do with more exercises. \"\n",
        "str2.rfind(\"i\") #9c"
      ],
      "execution_count": 8,
      "outputs": [
        {
          "output_type": "execute_result",
          "data": {
            "text/plain": [
              "51"
            ]
          },
          "metadata": {},
          "execution_count": 8
        }
      ]
    },
    {
      "cell_type": "code",
      "metadata": {
        "colab": {
          "base_uri": "https://localhost:8080/"
        },
        "id": "d8k5vZDlYTF6",
        "outputId": "65a10769-ce2c-4f3e-82ee-3ba341362525"
      },
      "source": [
        "str1 = \"Python exercises are fun. It is very satisfying to solve problems using this computer language.\"\n",
        "str2 = \"I'm enjoying this a lot! I could do with more exercises. \"\n",
        "\n",
        "kadatemy = str1 + str2 #10\n",
        "print(kadatemy)"
      ],
      "execution_count": 10,
      "outputs": [
        {
          "output_type": "stream",
          "name": "stdout",
          "text": [
            "Python exercises are fun. It is very satisfying to solve problems using this computer language.I'm enjoying this a lot! I could do with more exercises. \n"
          ]
        }
      ]
    },
    {
      "cell_type": "code",
      "metadata": {
        "colab": {
          "base_uri": "https://localhost:8080/"
        },
        "id": "BoiUP6_FZrdI",
        "outputId": "1c49b61a-5212-4bbe-aa27-46d37fcfcdb8"
      },
      "source": [
        "x = \"3490003\"\n",
        "x.isdigit() #11"
      ],
      "execution_count": 11,
      "outputs": [
        {
          "output_type": "execute_result",
          "data": {
            "text/plain": [
              "True"
            ]
          },
          "metadata": {},
          "execution_count": 11
        }
      ]
    }
  ]
}